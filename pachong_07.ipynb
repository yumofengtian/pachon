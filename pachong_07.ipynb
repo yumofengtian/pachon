{
 "cells": [
  {
   "cell_type": "code",
   "execution_count": 10,
   "metadata": {},
   "outputs": [
    {
     "name": "stdout",
     "output_type": "stream",
     "text": [
      "请输入起始页码：1\n",
      "请输入结束页码: 1\n"
     ]
    }
   ],
   "source": [
    "import urllib.request\n",
    "import urllib.parse\n",
    "import re\n",
    "\n",
    "def handle_request(url,page=None):\n",
    "    if page != None:\n",
    "        url = url + str(page) + '.html'\n",
    "    headers ={\n",
    "        'User-Agent': 'Mozilla/5.0 (Windows NT 10.0; Win64; x64) AppleWebKit/537.36 (KHTML, like Gecko) Chrome/75.0.3770.142 Safari/537.36'\n",
    "    }\n",
    "    #print(url)\n",
    "    request = urllib.request.Request(url=url,headers= headers)\n",
    "    return request\n",
    "\n",
    "def get_text(a_href):\n",
    "    # 调用函数构建请求对象\n",
    "    request = handle_request(a_href)\n",
    "    # 发送请求，获取响应\n",
    "    content = urllib.request.urlopen(request).read().decode()\n",
    "    # 解析内容 \n",
    "    pattern = re.compile(r'<div class=\"neirong\">(.*?)</div>',re.S)\n",
    "    lt = pattern.findall(content)\n",
    "    text = lt[0]\n",
    "    # 写个正则，将内容里面的所有的图片内容全部清空\n",
    "    pat = re.compile(r'<img .*?>')\n",
    "    text = pat.sub('',text)\n",
    "    return text\n",
    "#     print(lt)\n",
    "#     exit()\n",
    "\n",
    "def parse_content(content):\n",
    "    # 写正则\n",
    "    pattern = re.compile(r'<h3><a href=\"(/lizhi/qianming/\\d+\\.html)\">(.*?)</a></h3>')\n",
    "    # 返回的lt是一个列表，列表中的元素都是元组，元组中的第一个元素就\n",
    "    #是正则中第一个小括号匹配到的内容，元组中第二个元素就是正则中第二个小括号匹配到的内容\n",
    "    lt = pattern.findall(content)\n",
    "    # 遍历列表\n",
    "    for href_title in lt:\n",
    "        # 获取内容的链接\n",
    "        a_href = 'http://www.yikexun.cn' + href_title[0]\n",
    "        # 获取标题\n",
    "        title = href_title[-1]\n",
    "        # 向a_href发送请求，获取响应内容\n",
    "        text = get_text(a_href)\n",
    "        # 写入到html文件中\n",
    "        string = '<h1>%s</h1>%s' %(title,text)\n",
    "        with open('lizhi.html','a') as fp:\n",
    "            fp.write(string)\n",
    "        \n",
    "def main():\n",
    "    url = 'http://www.yikexun.cn/lizhi/qianming/list_50_'\n",
    "    start_page = int(input('请输入起始页码：'))\n",
    "    end_page = int(input('请输入结束页码: '))\n",
    "    for page in range(start_page,end_page + 1):\n",
    "        # 根据url和page去生成指定的request\n",
    "        request = handle_request(url,page)\n",
    "        # 发送请求\n",
    "        content = urllib.request.urlopen(request).read().decode()\n",
    "        # 解析内容 \n",
    "        parse_content(content)\n",
    "    \n",
    "if __name__ == '__main__':\n",
    "    main()"
   ]
  },
  {
   "cell_type": "code",
   "execution_count": null,
   "metadata": {
    "collapsed": true
   },
   "outputs": [],
   "source": []
  }
 ],
 "metadata": {
  "kernelspec": {
   "display_name": "Python 3",
   "language": "python",
   "name": "python3"
  },
  "language_info": {
   "codemirror_mode": {
    "name": "ipython",
    "version": 3
   },
   "file_extension": ".py",
   "mimetype": "text/x-python",
   "name": "python",
   "nbconvert_exporter": "python",
   "pygments_lexer": "ipython3",
   "version": "3.6.3"
  }
 },
 "nbformat": 4,
 "nbformat_minor": 2
}

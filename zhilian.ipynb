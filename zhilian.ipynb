{
 "cells": [
  {
   "cell_type": "code",
   "execution_count": null,
   "metadata": {},
   "outputs": [],
   "source": [
    "# 待完善\n",
    "import urllib.request\n",
    "import urllib.parse\n",
    "from bs4 import BeautifulSoup\n",
    "\n",
    "# \n",
    "\n",
    "class ZhiLianSpider(object):\n",
    "    url = 'https://sou.zhaopin.com/?'\n",
    "    def __init__(self,jl,kw,start_page,end_page):\n",
    "        # 将上面的参数都保存为自己的成员属性\n",
    "        self.jl = jl\n",
    "        self.kw = kw\n",
    "        self.start_page = start_page\n",
    "        self.end_page = end_page\n",
    "        \n",
    "    # 根据page拼接指定的url,然后生成请求\n",
    "    def handle_request(self,page):\n",
    "        data = {\n",
    "            'p':page,\n",
    "            'jl':self.jl,\n",
    "            'kw':self.kw,\n",
    "            'kt':3,\n",
    "            'sf':0,\n",
    "            'st':0\n",
    "        }\n",
    "        url_now = self.url + urllib.parse.urlencode(data)\n",
    "        # 构建请求对象\n",
    "        headers = {\n",
    "             'User-Agent': 'Mozilla/5.0 (Windows NT 10.0; Win64; x64) AppleWebKit/537.36 (KHTML, like Gecko) Chrome/75.0.3770.142 Safari/537.36'\n",
    "        }\n",
    "        request = urllib.request.Request(url = url_now,headers = headers)\n",
    "        return request\n",
    "    \n",
    "    # 解析内容函数\n",
    "    def parse_content(self,content):\n",
    "        # 生成对象\n",
    "        soup = BeautifulSoup(content,'lxml')\n",
    "        # 思路：先找到所有的class,每一个工作岗位就是一个class,遍历这个class的列表，然后通过class对象的select、find方法去找每一条记录的具体信息\n",
    "        class_list = soup.select('contentpile__content__wrapper__item clearfix')\n",
    "        print(class_list)\n",
    "        print(len(class_list))\n",
    "        \n",
    "    # 爬取程序\n",
    "    def run(self):\n",
    "        #搞个循环，循环爬取每一页数据\n",
    "        for page in range(self.start_page,self.end_page + 1):\n",
    "            request = self.handle_request(page)\n",
    "            # 发送请求获取内容\n",
    "            content = urllib.request.urlopen(request).read().decode()\n",
    "            # 解析内容\n",
    "            self.parse_content(content)\n",
    "\n",
    "def main():\n",
    "    jl = input('请输入工作地点：')\n",
    "    kw = input('请输入工作关键字：')\n",
    "    start_page = int(input('请输入起始页码：'))\n",
    "    end_page = int(input('请输入结束页码：'))\n",
    "    for page in range(start_page,end_page + 1):\n",
    "        pass\n",
    "        # 创建对象，启动爬取程序\n",
    "    spider = ZhiLianSpider(jl,kw,start_page,end_page)\n",
    "    spider.run()\n",
    "\n",
    "if __name__ == '__main__':\n",
    "    main()\n",
    "    "
   ]
  },
  {
   "cell_type": "code",
   "execution_count": null,
   "metadata": {
    "collapsed": true
   },
   "outputs": [],
   "source": []
  }
 ],
 "metadata": {
  "kernelspec": {
   "display_name": "Python 3",
   "language": "python",
   "name": "python3"
  },
  "language_info": {
   "codemirror_mode": {
    "name": "ipython",
    "version": 3
   },
   "file_extension": ".py",
   "mimetype": "text/x-python",
   "name": "python",
   "nbconvert_exporter": "python",
   "pygments_lexer": "ipython3",
   "version": "3.6.3"
  }
 },
 "nbformat": 4,
 "nbformat_minor": 2
}
